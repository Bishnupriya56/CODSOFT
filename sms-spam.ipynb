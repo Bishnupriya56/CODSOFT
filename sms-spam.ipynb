{
 "cells": [
  {
   "cell_type": "code",
   "execution_count": 1,
   "id": "8d70fb71",
   "metadata": {
    "_cell_guid": "b1076dfc-b9ad-4769-8c92-a6c4dae69d19",
    "_uuid": "8f2839f25d086af736a60e9eeb907d3b93b6e0e5",
    "execution": {
     "iopub.execute_input": "2024-04-04T06:18:14.874411Z",
     "iopub.status.busy": "2024-04-04T06:18:14.873906Z",
     "iopub.status.idle": "2024-04-04T06:18:15.888558Z",
     "shell.execute_reply": "2024-04-04T06:18:15.887371Z"
    },
    "papermill": {
     "duration": 1.0283,
     "end_time": "2024-04-04T06:18:15.891430",
     "exception": false,
     "start_time": "2024-04-04T06:18:14.863130",
     "status": "completed"
    },
    "tags": []
   },
   "outputs": [
    {
     "name": "stdout",
     "output_type": "stream",
     "text": [
      "/kaggle/input/spam-sms1/spam.csv\n"
     ]
    }
   ],
   "source": [
    "# This Python 3 environment comes with many helpful analytics libraries installed\n",
    "# It is defined by the kaggle/python Docker image: https://github.com/kaggle/docker-python\n",
    "# For example, here's several helpful packages to load\n",
    "\n",
    "import numpy as np # linear algebra\n",
    "import pandas as pd # data processing, CSV file I/O (e.g. pd.read_csv)\n",
    "\n",
    "# Input data files are available in the read-only \"../input/\" directory\n",
    "# For example, running this (by clicking run or pressing Shift+Enter) will list all files under the input directory\n",
    "\n",
    "import os\n",
    "for dirname, _, filenames in os.walk('/kaggle/input'):\n",
    "    for filename in filenames:\n",
    "        print(os.path.join(dirname, filename))\n",
    "\n",
    "# You can write up to 20GB to the current directory (/kaggle/working/) that gets preserved as output when you create a version using \"Save & Run All\" \n",
    "# You can also write temporary files to /kaggle/temp/, but they won't be saved outside of the current session"
   ]
  },
  {
   "cell_type": "code",
   "execution_count": 2,
   "id": "12eeebdf",
   "metadata": {
    "execution": {
     "iopub.execute_input": "2024-04-04T06:18:15.911445Z",
     "iopub.status.busy": "2024-04-04T06:18:15.910249Z",
     "iopub.status.idle": "2024-04-04T06:18:15.961083Z",
     "shell.execute_reply": "2024-04-04T06:18:15.959950Z"
    },
    "papermill": {
     "duration": 0.063611,
     "end_time": "2024-04-04T06:18:15.963837",
     "exception": false,
     "start_time": "2024-04-04T06:18:15.900226",
     "status": "completed"
    },
    "tags": []
   },
   "outputs": [
    {
     "data": {
      "text/html": [
       "<div>\n",
       "<style scoped>\n",
       "    .dataframe tbody tr th:only-of-type {\n",
       "        vertical-align: middle;\n",
       "    }\n",
       "\n",
       "    .dataframe tbody tr th {\n",
       "        vertical-align: top;\n",
       "    }\n",
       "\n",
       "    .dataframe thead th {\n",
       "        text-align: right;\n",
       "    }\n",
       "</style>\n",
       "<table border=\"1\" class=\"dataframe\">\n",
       "  <thead>\n",
       "    <tr style=\"text-align: right;\">\n",
       "      <th></th>\n",
       "      <th>v1</th>\n",
       "      <th>v2</th>\n",
       "      <th>Unnamed: 2</th>\n",
       "      <th>Unnamed: 3</th>\n",
       "      <th>Unnamed: 4</th>\n",
       "    </tr>\n",
       "  </thead>\n",
       "  <tbody>\n",
       "    <tr>\n",
       "      <th>0</th>\n",
       "      <td>ham</td>\n",
       "      <td>Go until jurong point, crazy.. Available only ...</td>\n",
       "      <td>NaN</td>\n",
       "      <td>NaN</td>\n",
       "      <td>NaN</td>\n",
       "    </tr>\n",
       "    <tr>\n",
       "      <th>1</th>\n",
       "      <td>ham</td>\n",
       "      <td>Ok lar... Joking wif u oni...</td>\n",
       "      <td>NaN</td>\n",
       "      <td>NaN</td>\n",
       "      <td>NaN</td>\n",
       "    </tr>\n",
       "    <tr>\n",
       "      <th>2</th>\n",
       "      <td>spam</td>\n",
       "      <td>Free entry in 2 a wkly comp to win FA Cup fina...</td>\n",
       "      <td>NaN</td>\n",
       "      <td>NaN</td>\n",
       "      <td>NaN</td>\n",
       "    </tr>\n",
       "    <tr>\n",
       "      <th>3</th>\n",
       "      <td>ham</td>\n",
       "      <td>U dun say so early hor... U c already then say...</td>\n",
       "      <td>NaN</td>\n",
       "      <td>NaN</td>\n",
       "      <td>NaN</td>\n",
       "    </tr>\n",
       "    <tr>\n",
       "      <th>4</th>\n",
       "      <td>ham</td>\n",
       "      <td>Nah I don't think he goes to usf, he lives aro...</td>\n",
       "      <td>NaN</td>\n",
       "      <td>NaN</td>\n",
       "      <td>NaN</td>\n",
       "    </tr>\n",
       "  </tbody>\n",
       "</table>\n",
       "</div>"
      ],
      "text/plain": [
       "     v1                                                 v2 Unnamed: 2  \\\n",
       "0   ham  Go until jurong point, crazy.. Available only ...        NaN   \n",
       "1   ham                      Ok lar... Joking wif u oni...        NaN   \n",
       "2  spam  Free entry in 2 a wkly comp to win FA Cup fina...        NaN   \n",
       "3   ham  U dun say so early hor... U c already then say...        NaN   \n",
       "4   ham  Nah I don't think he goes to usf, he lives aro...        NaN   \n",
       "\n",
       "  Unnamed: 3 Unnamed: 4  \n",
       "0        NaN        NaN  \n",
       "1        NaN        NaN  \n",
       "2        NaN        NaN  \n",
       "3        NaN        NaN  \n",
       "4        NaN        NaN  "
      ]
     },
     "execution_count": 2,
     "metadata": {},
     "output_type": "execute_result"
    }
   ],
   "source": [
    "import numpy as np\n",
    "import pandas as pd\n",
    "df = pd.read_csv('/kaggle/input/spam-sms1/spam.csv',encoding ='latin1')\n",
    "df.head()"
   ]
  },
  {
   "cell_type": "code",
   "execution_count": 3,
   "id": "b9f130e0",
   "metadata": {
    "execution": {
     "iopub.execute_input": "2024-04-04T06:18:15.985076Z",
     "iopub.status.busy": "2024-04-04T06:18:15.984606Z",
     "iopub.status.idle": "2024-04-04T06:18:15.995976Z",
     "shell.execute_reply": "2024-04-04T06:18:15.995063Z"
    },
    "papermill": {
     "duration": 0.025623,
     "end_time": "2024-04-04T06:18:15.998543",
     "exception": false,
     "start_time": "2024-04-04T06:18:15.972920",
     "status": "completed"
    },
    "tags": []
   },
   "outputs": [],
   "source": [
    "spam_df = df.drop(['Unnamed: 2', 'Unnamed: 3', 'Unnamed: 4'], axis=1)"
   ]
  },
  {
   "cell_type": "code",
   "execution_count": 4,
   "id": "b2775667",
   "metadata": {
    "execution": {
     "iopub.execute_input": "2024-04-04T06:18:16.018591Z",
     "iopub.status.busy": "2024-04-04T06:18:16.017694Z",
     "iopub.status.idle": "2024-04-04T06:18:16.028166Z",
     "shell.execute_reply": "2024-04-04T06:18:16.027347Z"
    },
    "papermill": {
     "duration": 0.022981,
     "end_time": "2024-04-04T06:18:16.030465",
     "exception": false,
     "start_time": "2024-04-04T06:18:16.007484",
     "status": "completed"
    },
    "tags": []
   },
   "outputs": [
    {
     "data": {
      "text/html": [
       "<div>\n",
       "<style scoped>\n",
       "    .dataframe tbody tr th:only-of-type {\n",
       "        vertical-align: middle;\n",
       "    }\n",
       "\n",
       "    .dataframe tbody tr th {\n",
       "        vertical-align: top;\n",
       "    }\n",
       "\n",
       "    .dataframe thead th {\n",
       "        text-align: right;\n",
       "    }\n",
       "</style>\n",
       "<table border=\"1\" class=\"dataframe\">\n",
       "  <thead>\n",
       "    <tr style=\"text-align: right;\">\n",
       "      <th></th>\n",
       "      <th>v1</th>\n",
       "      <th>v2</th>\n",
       "    </tr>\n",
       "  </thead>\n",
       "  <tbody>\n",
       "    <tr>\n",
       "      <th>0</th>\n",
       "      <td>ham</td>\n",
       "      <td>Go until jurong point, crazy.. Available only ...</td>\n",
       "    </tr>\n",
       "    <tr>\n",
       "      <th>1</th>\n",
       "      <td>ham</td>\n",
       "      <td>Ok lar... Joking wif u oni...</td>\n",
       "    </tr>\n",
       "    <tr>\n",
       "      <th>2</th>\n",
       "      <td>spam</td>\n",
       "      <td>Free entry in 2 a wkly comp to win FA Cup fina...</td>\n",
       "    </tr>\n",
       "    <tr>\n",
       "      <th>3</th>\n",
       "      <td>ham</td>\n",
       "      <td>U dun say so early hor... U c already then say...</td>\n",
       "    </tr>\n",
       "    <tr>\n",
       "      <th>4</th>\n",
       "      <td>ham</td>\n",
       "      <td>Nah I don't think he goes to usf, he lives aro...</td>\n",
       "    </tr>\n",
       "  </tbody>\n",
       "</table>\n",
       "</div>"
      ],
      "text/plain": [
       "     v1                                                 v2\n",
       "0   ham  Go until jurong point, crazy.. Available only ...\n",
       "1   ham                      Ok lar... Joking wif u oni...\n",
       "2  spam  Free entry in 2 a wkly comp to win FA Cup fina...\n",
       "3   ham  U dun say so early hor... U c already then say...\n",
       "4   ham  Nah I don't think he goes to usf, he lives aro..."
      ]
     },
     "execution_count": 4,
     "metadata": {},
     "output_type": "execute_result"
    }
   ],
   "source": [
    "spam_df.head()"
   ]
  },
  {
   "cell_type": "code",
   "execution_count": 5,
   "id": "f7c565b0",
   "metadata": {
    "execution": {
     "iopub.execute_input": "2024-04-04T06:18:16.051049Z",
     "iopub.status.busy": "2024-04-04T06:18:16.050624Z",
     "iopub.status.idle": "2024-04-04T06:18:17.460862Z",
     "shell.execute_reply": "2024-04-04T06:18:17.459791Z"
    },
    "papermill": {
     "duration": 1.42378,
     "end_time": "2024-04-04T06:18:17.463502",
     "exception": false,
     "start_time": "2024-04-04T06:18:16.039722",
     "status": "completed"
    },
    "tags": []
   },
   "outputs": [],
   "source": [
    "#converting the value of ham and spam into 1 or 0\n",
    "from sklearn.preprocessing import LabelEncoder\n",
    "encoder = LabelEncoder()\n",
    "spam_df['v1'] = encoder.fit_transform(spam_df['v1'])"
   ]
  },
  {
   "cell_type": "code",
   "execution_count": 6,
   "id": "fbfd4c24",
   "metadata": {
    "execution": {
     "iopub.execute_input": "2024-04-04T06:18:17.483542Z",
     "iopub.status.busy": "2024-04-04T06:18:17.483083Z",
     "iopub.status.idle": "2024-04-04T06:18:17.497076Z",
     "shell.execute_reply": "2024-04-04T06:18:17.496172Z"
    },
    "papermill": {
     "duration": 0.026803,
     "end_time": "2024-04-04T06:18:17.499463",
     "exception": false,
     "start_time": "2024-04-04T06:18:17.472660",
     "status": "completed"
    },
    "tags": []
   },
   "outputs": [
    {
     "data": {
      "text/plain": [
       "v1    0\n",
       "v2    0\n",
       "dtype: int64"
      ]
     },
     "execution_count": 6,
     "metadata": {},
     "output_type": "execute_result"
    }
   ],
   "source": [
    "#validation things worked so far\n",
    "spam_df.head()\n",
    "spam_df.isnull().sum()"
   ]
  },
  {
   "cell_type": "code",
   "execution_count": 7,
   "id": "1e71762f",
   "metadata": {
    "execution": {
     "iopub.execute_input": "2024-04-04T06:18:17.520180Z",
     "iopub.status.busy": "2024-04-04T06:18:17.519474Z",
     "iopub.status.idle": "2024-04-04T06:18:17.534367Z",
     "shell.execute_reply": "2024-04-04T06:18:17.533216Z"
    },
    "papermill": {
     "duration": 0.027801,
     "end_time": "2024-04-04T06:18:17.536708",
     "exception": false,
     "start_time": "2024-04-04T06:18:17.508907",
     "status": "completed"
    },
    "tags": []
   },
   "outputs": [
    {
     "data": {
      "text/plain": [
       "403"
      ]
     },
     "execution_count": 7,
     "metadata": {},
     "output_type": "execute_result"
    }
   ],
   "source": [
    "#check the duplicate values\n",
    "spam_df.duplicated().sum()"
   ]
  },
  {
   "cell_type": "code",
   "execution_count": 8,
   "id": "deb43f87",
   "metadata": {
    "execution": {
     "iopub.execute_input": "2024-04-04T06:18:17.557826Z",
     "iopub.status.busy": "2024-04-04T06:18:17.556697Z",
     "iopub.status.idle": "2024-04-04T06:18:17.573437Z",
     "shell.execute_reply": "2024-04-04T06:18:17.572248Z"
    },
    "papermill": {
     "duration": 0.030146,
     "end_time": "2024-04-04T06:18:17.576241",
     "exception": false,
     "start_time": "2024-04-04T06:18:17.546095",
     "status": "completed"
    },
    "tags": []
   },
   "outputs": [
    {
     "data": {
      "text/plain": [
       "0"
      ]
     },
     "execution_count": 8,
     "metadata": {},
     "output_type": "execute_result"
    }
   ],
   "source": [
    "#removing the duplicate value\n",
    "spam_df = spam_df.drop_duplicates(keep = 'first')\n",
    "spam_df.duplicated().sum()"
   ]
  },
  {
   "cell_type": "code",
   "execution_count": 9,
   "id": "17930e90",
   "metadata": {
    "execution": {
     "iopub.execute_input": "2024-04-04T06:18:17.597206Z",
     "iopub.status.busy": "2024-04-04T06:18:17.596813Z",
     "iopub.status.idle": "2024-04-04T06:18:17.607828Z",
     "shell.execute_reply": "2024-04-04T06:18:17.606639Z"
    },
    "papermill": {
     "duration": 0.02435,
     "end_time": "2024-04-04T06:18:17.610283",
     "exception": false,
     "start_time": "2024-04-04T06:18:17.585933",
     "status": "completed"
    },
    "tags": []
   },
   "outputs": [
    {
     "data": {
      "text/html": [
       "<div>\n",
       "<style scoped>\n",
       "    .dataframe tbody tr th:only-of-type {\n",
       "        vertical-align: middle;\n",
       "    }\n",
       "\n",
       "    .dataframe tbody tr th {\n",
       "        vertical-align: top;\n",
       "    }\n",
       "\n",
       "    .dataframe thead th {\n",
       "        text-align: right;\n",
       "    }\n",
       "</style>\n",
       "<table border=\"1\" class=\"dataframe\">\n",
       "  <thead>\n",
       "    <tr style=\"text-align: right;\">\n",
       "      <th></th>\n",
       "      <th>v1</th>\n",
       "      <th>v2</th>\n",
       "    </tr>\n",
       "  </thead>\n",
       "  <tbody>\n",
       "    <tr>\n",
       "      <th>0</th>\n",
       "      <td>0</td>\n",
       "      <td>Go until jurong point, crazy.. Available only ...</td>\n",
       "    </tr>\n",
       "    <tr>\n",
       "      <th>1</th>\n",
       "      <td>0</td>\n",
       "      <td>Ok lar... Joking wif u oni...</td>\n",
       "    </tr>\n",
       "    <tr>\n",
       "      <th>2</th>\n",
       "      <td>1</td>\n",
       "      <td>Free entry in 2 a wkly comp to win FA Cup fina...</td>\n",
       "    </tr>\n",
       "    <tr>\n",
       "      <th>3</th>\n",
       "      <td>0</td>\n",
       "      <td>U dun say so early hor... U c already then say...</td>\n",
       "    </tr>\n",
       "    <tr>\n",
       "      <th>4</th>\n",
       "      <td>0</td>\n",
       "      <td>Nah I don't think he goes to usf, he lives aro...</td>\n",
       "    </tr>\n",
       "  </tbody>\n",
       "</table>\n",
       "</div>"
      ],
      "text/plain": [
       "   v1                                                 v2\n",
       "0   0  Go until jurong point, crazy.. Available only ...\n",
       "1   0                      Ok lar... Joking wif u oni...\n",
       "2   1  Free entry in 2 a wkly comp to win FA Cup fina...\n",
       "3   0  U dun say so early hor... U c already then say...\n",
       "4   0  Nah I don't think he goes to usf, he lives aro..."
      ]
     },
     "execution_count": 9,
     "metadata": {},
     "output_type": "execute_result"
    }
   ],
   "source": [
    "spam_df.head()"
   ]
  },
  {
   "cell_type": "code",
   "execution_count": 10,
   "id": "9b92a584",
   "metadata": {
    "execution": {
     "iopub.execute_input": "2024-04-04T06:18:17.632697Z",
     "iopub.status.busy": "2024-04-04T06:18:17.632278Z",
     "iopub.status.idle": "2024-04-04T06:19:16.921385Z",
     "shell.execute_reply": "2024-04-04T06:19:16.920117Z"
    },
    "papermill": {
     "duration": 59.303807,
     "end_time": "2024-04-04T06:19:16.923983",
     "exception": false,
     "start_time": "2024-04-04T06:18:17.620176",
     "status": "completed"
    },
    "tags": []
   },
   "outputs": [
    {
     "name": "stdout",
     "output_type": "stream",
     "text": [
      "Requirement already satisfied: nltk in /opt/conda/lib/python3.10/site-packages (3.2.4)\r\n",
      "Requirement already satisfied: six in /opt/conda/lib/python3.10/site-packages (from nltk) (1.16.0)\r\n",
      "[nltk_data] Error loading punkt: <urlopen error [Errno -3] Temporary\n",
      "[nltk_data]     failure in name resolution>\n"
     ]
    },
    {
     "data": {
      "text/html": [
       "<div>\n",
       "<style scoped>\n",
       "    .dataframe tbody tr th:only-of-type {\n",
       "        vertical-align: middle;\n",
       "    }\n",
       "\n",
       "    .dataframe tbody tr th {\n",
       "        vertical-align: top;\n",
       "    }\n",
       "\n",
       "    .dataframe thead th {\n",
       "        text-align: right;\n",
       "    }\n",
       "</style>\n",
       "<table border=\"1\" class=\"dataframe\">\n",
       "  <thead>\n",
       "    <tr style=\"text-align: right;\">\n",
       "      <th></th>\n",
       "      <th>v1</th>\n",
       "      <th>v2</th>\n",
       "      <th>num_character</th>\n",
       "      <th>num_words</th>\n",
       "      <th>num_sentence</th>\n",
       "    </tr>\n",
       "  </thead>\n",
       "  <tbody>\n",
       "    <tr>\n",
       "      <th>0</th>\n",
       "      <td>0</td>\n",
       "      <td>Go until jurong point, crazy.. Available only ...</td>\n",
       "      <td>111</td>\n",
       "      <td>23</td>\n",
       "      <td>2</td>\n",
       "    </tr>\n",
       "    <tr>\n",
       "      <th>1</th>\n",
       "      <td>0</td>\n",
       "      <td>Ok lar... Joking wif u oni...</td>\n",
       "      <td>29</td>\n",
       "      <td>8</td>\n",
       "      <td>2</td>\n",
       "    </tr>\n",
       "    <tr>\n",
       "      <th>2</th>\n",
       "      <td>1</td>\n",
       "      <td>Free entry in 2 a wkly comp to win FA Cup fina...</td>\n",
       "      <td>155</td>\n",
       "      <td>37</td>\n",
       "      <td>2</td>\n",
       "    </tr>\n",
       "    <tr>\n",
       "      <th>3</th>\n",
       "      <td>0</td>\n",
       "      <td>U dun say so early hor... U c already then say...</td>\n",
       "      <td>49</td>\n",
       "      <td>13</td>\n",
       "      <td>1</td>\n",
       "    </tr>\n",
       "    <tr>\n",
       "      <th>4</th>\n",
       "      <td>0</td>\n",
       "      <td>Nah I don't think he goes to usf, he lives aro...</td>\n",
       "      <td>61</td>\n",
       "      <td>15</td>\n",
       "      <td>1</td>\n",
       "    </tr>\n",
       "  </tbody>\n",
       "</table>\n",
       "</div>"
      ],
      "text/plain": [
       "   v1                                                 v2  num_character  \\\n",
       "0   0  Go until jurong point, crazy.. Available only ...            111   \n",
       "1   0                      Ok lar... Joking wif u oni...             29   \n",
       "2   1  Free entry in 2 a wkly comp to win FA Cup fina...            155   \n",
       "3   0  U dun say so early hor... U c already then say...             49   \n",
       "4   0  Nah I don't think he goes to usf, he lives aro...             61   \n",
       "\n",
       "   num_words  num_sentence  \n",
       "0         23             2  \n",
       "1          8             2  \n",
       "2         37             2  \n",
       "3         13             1  \n",
       "4         15             1  "
      ]
     },
     "execution_count": 10,
     "metadata": {},
     "output_type": "execute_result"
    }
   ],
   "source": [
    "spam_df['num_character'] = spam_df['v2'].apply(len)\n",
    "!pip  install nltk\n",
    "import nltk\n",
    "nltk.download('punkt')\n",
    "spam_df['num_words'] = spam_df['v2'].apply(lambda x:len(nltk.word_tokenize(x)))\n",
    "spam_df['num_sentence'] = spam_df['v2'].apply(lambda x : len(nltk.sent_tokenize(x)))\n",
    "spam_df.head()"
   ]
  },
  {
   "cell_type": "code",
   "execution_count": 11,
   "id": "79d3adf1",
   "metadata": {
    "execution": {
     "iopub.execute_input": "2024-04-04T06:19:16.947166Z",
     "iopub.status.busy": "2024-04-04T06:19:16.945992Z",
     "iopub.status.idle": "2024-04-04T06:19:36.992084Z",
     "shell.execute_reply": "2024-04-04T06:19:36.990791Z"
    },
    "papermill": {
     "duration": 20.060616,
     "end_time": "2024-04-04T06:19:36.994996",
     "exception": false,
     "start_time": "2024-04-04T06:19:16.934380",
     "status": "completed"
    },
    "tags": []
   },
   "outputs": [
    {
     "name": "stdout",
     "output_type": "stream",
     "text": [
      "[nltk_data] Error loading stopwords: <urlopen error [Errno -3]\n",
      "[nltk_data]     Temporary failure in name resolution>\n"
     ]
    }
   ],
   "source": [
    "#here we are going to convert the text data into suitable format\n",
    "from nltk.corpus import stopwords\n",
    "from nltk.stem.porter import PorterStemmer\n",
    "nltk.download('stopwords')\n",
    "import string\n",
    "\n",
    "def transformTexts(text):\n",
    "    text = text.lower()\n",
    "    #tokenizing the text based on the words in the text\n",
    "    text = nltk.word_tokenize(text)\n",
    "    #including all those characters which are alphabet or number\n",
    "    y = []\n",
    "    for i in text:\n",
    "        if i.isalnum:\n",
    "            y.append(i)\n",
    "            \n",
    "    #storing the value of y into the vaiable text\n",
    "    text = y[:]\n",
    "    y.clear()\n",
    "    \n",
    "    #Removing the unnecessary words such as 'how are you ' or something which is not importent \n",
    "    #down here the stopwords.words('english') is nothing but all the lame set of words as described above\n",
    "    for i in text:\n",
    "        if i not in stopwords.words('english') and i not in string.punctuation:\n",
    "            y.append(i)\n",
    "            \n",
    "    #the last step is nothing but steming in the steming we basically convert every verb form into the simple form such as\n",
    "    #if we have dancing or danced we will convert them into dance and so on for this need to import something  hehehehe\n",
    "    \n",
    "    text = y[:]\n",
    "    y.clear()\n",
    "    ps = PorterStemmer()\n",
    "    \n",
    "    for i in text:\n",
    "        y.append(ps.stem(i))\n",
    "    \n",
    "    text = y[:]\n",
    "    y.clear()\n",
    "    \n",
    "    return \" \".join(text)"
   ]
  },
  {
   "cell_type": "code",
   "execution_count": 12,
   "id": "bb364f8c",
   "metadata": {
    "execution": {
     "iopub.execute_input": "2024-04-04T06:19:37.017342Z",
     "iopub.status.busy": "2024-04-04T06:19:37.016938Z",
     "iopub.status.idle": "2024-04-04T06:19:37.032758Z",
     "shell.execute_reply": "2024-04-04T06:19:37.031720Z"
    },
    "papermill": {
     "duration": 0.029787,
     "end_time": "2024-04-04T06:19:37.035256",
     "exception": false,
     "start_time": "2024-04-04T06:19:37.005469",
     "status": "completed"
    },
    "tags": []
   },
   "outputs": [
    {
     "data": {
      "text/plain": [
       "'hi shehriar eat salad danc tell danc well last time'"
      ]
     },
     "execution_count": 12,
     "metadata": {},
     "output_type": "execute_result"
    }
   ],
   "source": [
    "transformTexts('Hi Shehriar how are you? Did you eat my salad?And if you are dancing tell me I danced very well last time')"
   ]
  },
  {
   "cell_type": "code",
   "execution_count": 13,
   "id": "d6bf73fa",
   "metadata": {
    "execution": {
     "iopub.execute_input": "2024-04-04T06:19:37.058119Z",
     "iopub.status.busy": "2024-04-04T06:19:37.057414Z",
     "iopub.status.idle": "2024-04-04T06:19:54.546471Z",
     "shell.execute_reply": "2024-04-04T06:19:54.545262Z"
    },
    "papermill": {
     "duration": 17.503725,
     "end_time": "2024-04-04T06:19:54.549412",
     "exception": false,
     "start_time": "2024-04-04T06:19:37.045687",
     "status": "completed"
    },
    "tags": []
   },
   "outputs": [],
   "source": [
    "spam_df['transformed'] = spam_df['v2'].apply(transformTexts)"
   ]
  },
  {
   "cell_type": "code",
   "execution_count": 14,
   "id": "00a57bfc",
   "metadata": {
    "execution": {
     "iopub.execute_input": "2024-04-04T06:19:54.572564Z",
     "iopub.status.busy": "2024-04-04T06:19:54.572125Z",
     "iopub.status.idle": "2024-04-04T06:19:54.585953Z",
     "shell.execute_reply": "2024-04-04T06:19:54.584807Z"
    },
    "papermill": {
     "duration": 0.028413,
     "end_time": "2024-04-04T06:19:54.588571",
     "exception": false,
     "start_time": "2024-04-04T06:19:54.560158",
     "status": "completed"
    },
    "tags": []
   },
   "outputs": [
    {
     "data": {
      "text/html": [
       "<div>\n",
       "<style scoped>\n",
       "    .dataframe tbody tr th:only-of-type {\n",
       "        vertical-align: middle;\n",
       "    }\n",
       "\n",
       "    .dataframe tbody tr th {\n",
       "        vertical-align: top;\n",
       "    }\n",
       "\n",
       "    .dataframe thead th {\n",
       "        text-align: right;\n",
       "    }\n",
       "</style>\n",
       "<table border=\"1\" class=\"dataframe\">\n",
       "  <thead>\n",
       "    <tr style=\"text-align: right;\">\n",
       "      <th></th>\n",
       "      <th>v1</th>\n",
       "      <th>v2</th>\n",
       "      <th>num_character</th>\n",
       "      <th>num_words</th>\n",
       "      <th>num_sentence</th>\n",
       "      <th>transformed</th>\n",
       "    </tr>\n",
       "  </thead>\n",
       "  <tbody>\n",
       "    <tr>\n",
       "      <th>0</th>\n",
       "      <td>0</td>\n",
       "      <td>Go until jurong point, crazy.. Available only ...</td>\n",
       "      <td>111</td>\n",
       "      <td>23</td>\n",
       "      <td>2</td>\n",
       "      <td>go jurong point crazy.. avail bugi n great wor...</td>\n",
       "    </tr>\n",
       "    <tr>\n",
       "      <th>1</th>\n",
       "      <td>0</td>\n",
       "      <td>Ok lar... Joking wif u oni...</td>\n",
       "      <td>29</td>\n",
       "      <td>8</td>\n",
       "      <td>2</td>\n",
       "      <td>ok lar ... joke wif u oni ...</td>\n",
       "    </tr>\n",
       "    <tr>\n",
       "      <th>2</th>\n",
       "      <td>1</td>\n",
       "      <td>Free entry in 2 a wkly comp to win FA Cup fina...</td>\n",
       "      <td>155</td>\n",
       "      <td>37</td>\n",
       "      <td>2</td>\n",
       "      <td>free entri 2 wkli comp win fa cup final tkt 21...</td>\n",
       "    </tr>\n",
       "    <tr>\n",
       "      <th>3</th>\n",
       "      <td>0</td>\n",
       "      <td>U dun say so early hor... U c already then say...</td>\n",
       "      <td>49</td>\n",
       "      <td>13</td>\n",
       "      <td>1</td>\n",
       "      <td>u dun say earli hor ... u c alreadi say ...</td>\n",
       "    </tr>\n",
       "    <tr>\n",
       "      <th>4</th>\n",
       "      <td>0</td>\n",
       "      <td>Nah I don't think he goes to usf, he lives aro...</td>\n",
       "      <td>61</td>\n",
       "      <td>15</td>\n",
       "      <td>1</td>\n",
       "      <td>nah n't think goe usf live around though</td>\n",
       "    </tr>\n",
       "  </tbody>\n",
       "</table>\n",
       "</div>"
      ],
      "text/plain": [
       "   v1                                                 v2  num_character  \\\n",
       "0   0  Go until jurong point, crazy.. Available only ...            111   \n",
       "1   0                      Ok lar... Joking wif u oni...             29   \n",
       "2   1  Free entry in 2 a wkly comp to win FA Cup fina...            155   \n",
       "3   0  U dun say so early hor... U c already then say...             49   \n",
       "4   0  Nah I don't think he goes to usf, he lives aro...             61   \n",
       "\n",
       "   num_words  num_sentence                                        transformed  \n",
       "0         23             2  go jurong point crazy.. avail bugi n great wor...  \n",
       "1          8             2                      ok lar ... joke wif u oni ...  \n",
       "2         37             2  free entri 2 wkli comp win fa cup final tkt 21...  \n",
       "3         13             1        u dun say earli hor ... u c alreadi say ...  \n",
       "4         15             1           nah n't think goe usf live around though  "
      ]
     },
     "execution_count": 14,
     "metadata": {},
     "output_type": "execute_result"
    }
   ],
   "source": [
    "spam_df.head()"
   ]
  },
  {
   "cell_type": "code",
   "execution_count": 15,
   "id": "eba738d1",
   "metadata": {
    "execution": {
     "iopub.execute_input": "2024-04-04T06:19:54.611533Z",
     "iopub.status.busy": "2024-04-04T06:19:54.611152Z",
     "iopub.status.idle": "2024-04-04T06:20:30.471275Z",
     "shell.execute_reply": "2024-04-04T06:20:30.470271Z"
    },
    "papermill": {
     "duration": 35.875521,
     "end_time": "2024-04-04T06:20:30.474767",
     "exception": false,
     "start_time": "2024-04-04T06:19:54.599246",
     "status": "completed"
    },
    "tags": []
   },
   "outputs": [
    {
     "name": "stdout",
     "output_type": "stream",
     "text": [
      "Requirement already satisfied: wordcloud in /opt/conda/lib/python3.10/site-packages (1.9.3)\r\n",
      "Requirement already satisfied: numpy>=1.6.1 in /opt/conda/lib/python3.10/site-packages (from wordcloud) (1.26.4)\r\n",
      "Requirement already satisfied: pillow in /opt/conda/lib/python3.10/site-packages (from wordcloud) (9.5.0)\r\n",
      "Requirement already satisfied: matplotlib in /opt/conda/lib/python3.10/site-packages (from wordcloud) (3.7.5)\r\n",
      "Requirement already satisfied: contourpy>=1.0.1 in /opt/conda/lib/python3.10/site-packages (from matplotlib->wordcloud) (1.2.0)\r\n",
      "Requirement already satisfied: cycler>=0.10 in /opt/conda/lib/python3.10/site-packages (from matplotlib->wordcloud) (0.12.1)\r\n",
      "Requirement already satisfied: fonttools>=4.22.0 in /opt/conda/lib/python3.10/site-packages (from matplotlib->wordcloud) (4.47.0)\r\n",
      "Requirement already satisfied: kiwisolver>=1.0.1 in /opt/conda/lib/python3.10/site-packages (from matplotlib->wordcloud) (1.4.5)\r\n",
      "Requirement already satisfied: packaging>=20.0 in /opt/conda/lib/python3.10/site-packages (from matplotlib->wordcloud) (21.3)\r\n",
      "Requirement already satisfied: pyparsing>=2.3.1 in /opt/conda/lib/python3.10/site-packages (from matplotlib->wordcloud) (3.1.1)\r\n",
      "Requirement already satisfied: python-dateutil>=2.7 in /opt/conda/lib/python3.10/site-packages (from matplotlib->wordcloud) (2.9.0.post0)\r\n",
      "Requirement already satisfied: six>=1.5 in /opt/conda/lib/python3.10/site-packages (from python-dateutil>=2.7->matplotlib->wordcloud) (1.16.0)\r\n"
     ]
    },
    {
     "data": {
      "text/plain": [
       "<matplotlib.image.AxesImage at 0x78201285aef0>"
      ]
     },
     "execution_count": 15,
     "metadata": {},
     "output_type": "execute_result"
    },
    {
     "data": {
      "image/png": "[encoded data removed]",
      "text/plain": [
       "<Figure size 640x480 with 1 Axes>"
      ]
     },
     "metadata": {},
     "output_type": "display_data"
    }
   ],
   "source": [
    "!pip install wordcloud\n",
    "from wordcloud import WordCloud\n",
    "import matplotlib.pyplot as plt\n",
    "wc = WordCloud(width = 500,height = 500,min_font_size = 10,background_color = 'white')\n",
    "spam_wc = wc.generate(spam_df[spam_df['v1'] == 1]['transformed'].str.cat(sep = \" \"))\n",
    "plt.imshow(spam_wc)\n"
   ]
  },
  {
   "cell_type": "code",
   "execution_count": 16,
   "id": "14087b09",
   "metadata": {
    "execution": {
     "iopub.execute_input": "2024-04-04T06:20:30.504018Z",
     "iopub.status.busy": "2024-04-04T06:20:30.502954Z",
     "iopub.status.idle": "2024-04-04T06:20:30.550398Z",
     "shell.execute_reply": "2024-04-04T06:20:30.549188Z"
    },
    "papermill": {
     "duration": 0.064866,
     "end_time": "2024-04-04T06:20:30.553105",
     "exception": false,
     "start_time": "2024-04-04T06:20:30.488239",
     "status": "completed"
    },
    "tags": []
   },
   "outputs": [],
   "source": [
    "spam_corpus = []\n",
    "for msg in spam_df[spam_df['v1']==1]['transformed'].tolist():\n",
    "    for word in msg.split():\n",
    "        spam_corpus.append(word)\n",
    "        \n",
    "#same for the ham messages \n",
    "ham_corpus = []\n",
    "for msg in spam_df[spam_df['v1']==0]['transformed'].tolist():\n",
    "    for word in msg:\n",
    "        ham_corpus.append(word)"
   ]
  },
  {
   "cell_type": "code",
   "execution_count": 17,
   "id": "bc3a77a0",
   "metadata": {
    "execution": {
     "iopub.execute_input": "2024-04-04T06:20:30.582329Z",
     "iopub.status.busy": "2024-04-04T06:20:30.581222Z",
     "iopub.status.idle": "2024-04-04T06:20:30.594391Z",
     "shell.execute_reply": "2024-04-04T06:20:30.593320Z"
    },
    "papermill": {
     "duration": 0.030103,
     "end_time": "2024-04-04T06:20:30.596706",
     "exception": false,
     "start_time": "2024-04-04T06:20:30.566603",
     "status": "completed"
    },
    "tags": []
   },
   "outputs": [
    {
     "data": {
      "text/html": [
       "<div>\n",
       "<style scoped>\n",
       "    .dataframe tbody tr th:only-of-type {\n",
       "        vertical-align: middle;\n",
       "    }\n",
       "\n",
       "    .dataframe tbody tr th {\n",
       "        vertical-align: top;\n",
       "    }\n",
       "\n",
       "    .dataframe thead th {\n",
       "        text-align: right;\n",
       "    }\n",
       "</style>\n",
       "<table border=\"1\" class=\"dataframe\">\n",
       "  <thead>\n",
       "    <tr style=\"text-align: right;\">\n",
       "      <th></th>\n",
       "      <th>0</th>\n",
       "    </tr>\n",
       "  </thead>\n",
       "  <tbody>\n",
       "    <tr>\n",
       "      <th>0</th>\n",
       "      <td>free</td>\n",
       "    </tr>\n",
       "    <tr>\n",
       "      <th>1</th>\n",
       "      <td>entri</td>\n",
       "    </tr>\n",
       "    <tr>\n",
       "      <th>2</th>\n",
       "      <td>2</td>\n",
       "    </tr>\n",
       "    <tr>\n",
       "      <th>3</th>\n",
       "      <td>wkli</td>\n",
       "    </tr>\n",
       "    <tr>\n",
       "      <th>4</th>\n",
       "      <td>comp</td>\n",
       "    </tr>\n",
       "  </tbody>\n",
       "</table>\n",
       "</div>"
      ],
      "text/plain": [
       "       0\n",
       "0   free\n",
       "1  entri\n",
       "2      2\n",
       "3   wkli\n",
       "4   comp"
      ]
     },
     "execution_count": 17,
     "metadata": {},
     "output_type": "execute_result"
    }
   ],
   "source": [
    "spam_corpus_df = pd.DataFrame(spam_corpus)\n",
    "spam_corpus_df.head()"
   ]
  },
  {
   "cell_type": "code",
   "execution_count": 18,
   "id": "c0e8a7b6",
   "metadata": {
    "execution": {
     "iopub.execute_input": "2024-04-04T06:20:30.625850Z",
     "iopub.status.busy": "2024-04-04T06:20:30.625400Z",
     "iopub.status.idle": "2024-04-04T06:20:30.630348Z",
     "shell.execute_reply": "2024-04-04T06:20:30.629128Z"
    },
    "papermill": {
     "duration": 0.022452,
     "end_time": "2024-04-04T06:20:30.632664",
     "exception": false,
     "start_time": "2024-04-04T06:20:30.610212",
     "status": "completed"
    },
    "tags": []
   },
   "outputs": [],
   "source": [
    "# # !pip install seaborn\n",
    "# from collections import Counter\n",
    "# import seaborn as sns\n",
    "# sns.barplot(pd.DataFrame(Counter(ham_corpus).most_common(30))[0],pd.DataFrame(Counter(ham_corpus).most_common(30))[1])"
   ]
  },
  {
   "cell_type": "code",
   "execution_count": null,
   "id": "90aa7a2d",
   "metadata": {
    "papermill": {
     "duration": 0.013222,
     "end_time": "2024-04-04T06:20:30.659289",
     "exception": false,
     "start_time": "2024-04-04T06:20:30.646067",
     "status": "completed"
    },
    "tags": []
   },
   "outputs": [],
   "source": []
  },
  {
   "cell_type": "code",
   "execution_count": null,
   "id": "21ed0ab8",
   "metadata": {
    "papermill": {
     "duration": 0.012931,
     "end_time": "2024-04-04T06:20:30.685823",
     "exception": false,
     "start_time": "2024-04-04T06:20:30.672892",
     "status": "completed"
    },
    "tags": []
   },
   "outputs": [],
   "source": []
  },
  {
   "cell_type": "code",
   "execution_count": null,
   "id": "80a712b2",
   "metadata": {
    "papermill": {
     "duration": 0.013381,
     "end_time": "2024-04-04T06:20:30.712812",
     "exception": false,
     "start_time": "2024-04-04T06:20:30.699431",
     "status": "completed"
    },
    "tags": []
   },
   "outputs": [],
   "source": []
  },
  {
   "cell_type": "code",
   "execution_count": null,
   "id": "84d8902c",
   "metadata": {
    "papermill": {
     "duration": 0.012934,
     "end_time": "2024-04-04T06:20:30.739073",
     "exception": false,
     "start_time": "2024-04-04T06:20:30.726139",
     "status": "completed"
    },
    "tags": []
   },
   "outputs": [],
   "source": []
  },
  {
   "cell_type": "code",
   "execution_count": null,
   "id": "a1d933d8",
   "metadata": {
    "papermill": {
     "duration": 0.012965,
     "end_time": "2024-04-04T06:20:30.765452",
     "exception": false,
     "start_time": "2024-04-04T06:20:30.752487",
     "status": "completed"
    },
    "tags": []
   },
   "outputs": [],
   "source": []
  },
  {
   "cell_type": "code",
   "execution_count": null,
   "id": "bb658805",
   "metadata": {
    "papermill": {
     "duration": 0.013595,
     "end_time": "2024-04-04T06:20:30.792252",
     "exception": false,
     "start_time": "2024-04-04T06:20:30.778657",
     "status": "completed"
    },
    "tags": []
   },
   "outputs": [],
   "source": []
  },
  {
   "cell_type": "code",
   "execution_count": null,
   "id": "81a9f59f",
   "metadata": {
    "papermill": {
     "duration": 0.013243,
     "end_time": "2024-04-04T06:20:30.819074",
     "exception": false,
     "start_time": "2024-04-04T06:20:30.805831",
     "status": "completed"
    },
    "tags": []
   },
   "outputs": [],
   "source": []
  },
  {
   "cell_type": "code",
   "execution_count": null,
   "id": "585c30c1",
   "metadata": {
    "papermill": {
     "duration": 0.013554,
     "end_time": "2024-04-04T06:20:30.846179",
     "exception": false,
     "start_time": "2024-04-04T06:20:30.832625",
     "status": "completed"
    },
    "tags": []
   },
   "outputs": [],
   "source": []
  },
  {
   "cell_type": "code",
   "execution_count": null,
   "id": "dcce0e88",
   "metadata": {
    "papermill": {
     "duration": 0.014178,
     "end_time": "2024-04-04T06:20:30.873886",
     "exception": false,
     "start_time": "2024-04-04T06:20:30.859708",
     "status": "completed"
    },
    "tags": []
   },
   "outputs": [],
   "source": []
  }
 ],
 "metadata": {
  "kaggle": {
   "accelerator": "none",
   "dataSources": [
    {
     "datasetId": 4729457,
     "sourceId": 8025240,
     "sourceType": "datasetVersion"
    }
   ],
   "dockerImageVersionId": 30673,
   "isGpuEnabled": false,
   "isInternetEnabled": false,
   "language": "python",
   "sourceType": "notebook"
  },
  "kernelspec": {
   "display_name": "Python 3",
   "language": "python",
   "name": "python3"
  },
  "language_info": {
   "codemirror_mode": {
    "name": "ipython",
    "version": 3
   },
   "file_extension": ".py",
   "mimetype": "text/x-python",
   "name": "python",
   "nbconvert_exporter": "python",
   "pygments_lexer": "ipython3",
   "version": "3.10.13"
  },
  "papermill": {
   "default_parameters": {},
   "duration": 139.866173,
   "end_time": "2024-04-04T06:20:31.609271",
   "environment_variables": {},
   "exception": null,
   "input_path": "__notebook__.ipynb",
   "output_path": "__notebook__.ipynb",
   "parameters": {},
   "start_time": "2024-04-04T06:18:11.743098",
   "version": "2.5.0"
  }
 },
 "nbformat": 4,
 "nbformat_minor": 5
}
